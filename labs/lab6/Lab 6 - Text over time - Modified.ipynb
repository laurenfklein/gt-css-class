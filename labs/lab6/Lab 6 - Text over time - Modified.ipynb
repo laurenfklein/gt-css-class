{
 "cells": [
  {
   "cell_type": "code",
   "execution_count": 27,
   "metadata": {},
   "outputs": [],
   "source": [
    "from sklearn.feature_extraction.text import CountVectorizer\n",
    "from datetime import datetime, date\n",
    "from glob import glob\n",
    "import os\n",
    "import numpy as np\n",
    "import matplotlib.pyplot as plt\n",
    "%matplotlib inline"
   ]
  },
  {
   "cell_type": "markdown",
   "metadata": {},
   "source": [
    "Our dataset is a set of issues of a newspaper called *The Liberator* <https://en.wikipedia.org/wiki/The_Liberator_(newspaper)>, which was active for the last few decades of the abolitionist period."
   ]
  },
  {
   "cell_type": "code",
   "execution_count": 28,
   "metadata": {},
   "outputs": [
    {
     "name": "stdout",
     "output_type": "stream",
     "text": [
      "x TheLiberator/\n",
      "x TheLiberator/1848-09-01.txt\n",
      "x TheLiberator/1850-11-01.txt\n",
      "x TheLiberator/1840-05-01.txt\n",
      "x TheLiberator/1839-11-01.txt\n",
      "x TheLiberator/1844-11-01.txt\n",
      "x TheLiberator/1838-06-01.txt\n",
      "x TheLiberator/1860-06-01.txt\n",
      "x TheLiberator/1834-03-01.txt\n",
      "x TheLiberator/1841-01-01.txt\n",
      "x TheLiberator/1857-05-01.txt\n",
      "x TheLiberator/1847-01-01.txt\n",
      "x TheLiberator/1832-12-01.txt\n",
      "x TheLiberator/1861-03-01.txt\n",
      "x TheLiberator/1864-01-01.txt\n",
      "x TheLiberator/1851-11-01.txt\n",
      "x TheLiberator/1851-08-01.txt\n",
      "x TheLiberator/1861-02-01.txt\n",
      "x TheLiberator/1833-06-01.txt\n",
      "x TheLiberator/1854-09-01.txt\n",
      "x TheLiberator/1831-01-01.txt\n",
      "x TheLiberator/1850-03-01.txt\n",
      "x TheLiberator/1843-12-01.txt\n",
      "x TheLiberator/1849-06-01.txt\n",
      "x TheLiberator/1836-10-01.txt\n",
      "x TheLiberator/1861-11-01.txt\n",
      "x TheLiberator/1834-02-01.txt\n",
      "x TheLiberator/1850-02-01.txt\n",
      "x TheLiberator/1863-05-01.txt\n",
      "x TheLiberator/1856-08-01.txt\n",
      "x TheLiberator/1864-04-01.txt\n",
      "x TheLiberator/1842-04-01.txt\n",
      "x TheLiberator/1865-12-01.txt\n",
      "x TheLiberator/1844-03-01.txt\n",
      "x TheLiberator/1854-12-01.txt\n",
      "x TheLiberator/1858-10-01.txt\n",
      "x TheLiberator/1831-10-01.txt\n",
      "x TheLiberator/1847-10-01.txt\n",
      "x TheLiberator/1853-07-01.txt\n",
      "x TheLiberator/1864-07-01.txt\n",
      "x TheLiberator/1865-09-01.txt\n",
      "x TheLiberator/1843-09-01.txt\n",
      "x TheLiberator/1852-10-01.txt\n",
      "x TheLiberator/1842-07-01.txt\n",
      "x TheLiberator/1846-05-01.txt\n",
      "x TheLiberator/1841-10-01.txt\n",
      "x TheLiberator/1837-09-01.txt\n",
      "x TheLiberator/1856-02-01.txt\n",
      "x TheLiberator/1839-02-01.txt\n",
      "x TheLiberator/1835-08-01.txt\n",
      "x TheLiberator/1862-08-01.txt\n",
      "x TheLiberator/1853-04-01.txt\n",
      "x TheLiberator/1855-06-01.txt\n",
      "x TheLiberator/1848-12-01.txt\n",
      "x TheLiberator/1834-11-01.txt\n",
      "x TheLiberator/1839-03-01.txt\n",
      "x TheLiberator/1858-01-01.txt\n",
      "x TheLiberator/1845-08-01.txt\n",
      "x TheLiberator/1859-07-01.txt\n",
      "x TheLiberator/1832-09-01.txt\n"
     ]
    }
   ],
   "source": [
    "! tar xvzf TheLiberator.tgz"
   ]
  },
  {
   "cell_type": "code",
   "execution_count": 29,
   "metadata": {},
   "outputs": [],
   "source": [
    "#files = sorted(glob('TheLily/*'))\n",
    "files = sorted(glob('TheLiberator/*'))"
   ]
  },
  {
   "cell_type": "code",
   "execution_count": 30,
   "metadata": {},
   "outputs": [
    {
     "data": {
      "text/plain": [
       "['TheLiberator/1864-07-01.txt',\n",
       " 'TheLiberator/1865-09-01.txt',\n",
       " 'TheLiberator/1865-12-01.txt']"
      ]
     },
     "execution_count": 30,
     "metadata": {},
     "output_type": "execute_result"
    }
   ],
   "source": [
    "files[-3:]"
   ]
  },
  {
   "cell_type": "markdown",
   "metadata": {},
   "source": [
    "Let's build a vectorizer to read it in. \n",
    "\n",
    "Note the flag `binary`. If we set `binary=True`, this would mean that each word is counted at most once per document."
   ]
  },
  {
   "cell_type": "code",
   "execution_count": 31,
   "metadata": {},
   "outputs": [],
   "source": [
    "vect = CountVectorizer(input='filename',min_df=10,binary=False)"
   ]
  },
  {
   "cell_type": "code",
   "execution_count": 32,
   "metadata": {},
   "outputs": [],
   "source": [
    "X = vect.fit_transform(files)"
   ]
  },
  {
   "cell_type": "code",
   "execution_count": 33,
   "metadata": {},
   "outputs": [
    {
     "data": {
      "text/plain": [
       "(59, 8305)"
      ]
     },
     "execution_count": 33,
     "metadata": {},
     "output_type": "execute_result"
    }
   ],
   "source": [
    "X.shape"
   ]
  },
  {
   "cell_type": "code",
   "execution_count": 35,
   "metadata": {},
   "outputs": [
    {
     "name": "stdout",
     "output_type": "stream",
     "text": [
      "  (0, 1667)\t1\n",
      "  (0, 344)\t1\n",
      "  (0, 5545)\t1\n",
      "  (0, 1395)\t1\n",
      "  (0, 3991)\t1\n",
      "  (0, 2484)\t1\n",
      "  (0, 1571)\t1\n",
      "  (0, 7184)\t1\n",
      "  (0, 7074)\t2\n",
      "  (0, 603)\t1\n",
      "  (0, 3421)\t2\n",
      "  (0, 3326)\t1\n",
      "  (0, 7107)\t1\n",
      "  (0, 2141)\t1\n",
      "  (0, 7568)\t1\n",
      "  (0, 3128)\t1\n",
      "  (0, 4452)\t1\n",
      "  (0, 1079)\t1\n",
      "  (0, 4537)\t1\n",
      "  (0, 5934)\t1\n",
      "  (0, 6667)\t1\n",
      "  (0, 2099)\t1\n",
      "  (0, 3883)\t1\n",
      "  (0, 7562)\t1\n",
      "  (0, 8020)\t1\n",
      "  :\t:\n",
      "  (58, 4591)\t50\n",
      "  (58, 1277)\t5\n",
      "  (58, 3215)\t17\n",
      "  (58, 5012)\t3\n",
      "  (58, 3454)\t5\n",
      "  (58, 5147)\t129\n",
      "  (58, 469)\t965\n",
      "  (58, 1100)\t4\n",
      "  (58, 7823)\t47\n",
      "  (58, 1216)\t49\n",
      "  (58, 7437)\t137\n",
      "  (58, 4425)\t18\n",
      "  (58, 666)\t263\n",
      "  (58, 5246)\t8\n",
      "  (58, 5691)\t2\n",
      "  (58, 7534)\t860\n",
      "  (58, 8188)\t152\n",
      "  (58, 1454)\t10\n",
      "  (58, 7361)\t146\n",
      "  (58, 3144)\t1\n",
      "  (58, 3500)\t160\n",
      "  (58, 4348)\t7\n",
      "  (58, 5037)\t1176\n",
      "  (58, 5839)\t2\n",
      "  (58, 7325)\t1997\n"
     ]
    }
   ],
   "source": [
    "print(X)"
   ]
  },
  {
   "cell_type": "markdown",
   "metadata": {},
   "source": [
    "Let's print the most common words in 1851. To do this, we'll import `dateutil.parser`, which can parse the dates from the filenames."
   ]
  },
  {
   "cell_type": "code",
   "execution_count": 36,
   "metadata": {},
   "outputs": [],
   "source": [
    "from dateutil.parser import parse"
   ]
  },
  {
   "cell_type": "code",
   "execution_count": 37,
   "metadata": {},
   "outputs": [
    {
     "data": {
      "text/plain": [
       "'TheLiberator/1833-06-01.txt'"
      ]
     },
     "execution_count": 37,
     "metadata": {},
     "output_type": "execute_result"
    }
   ],
   "source": [
    "files[4]"
   ]
  },
  {
   "cell_type": "code",
   "execution_count": 38,
   "metadata": {},
   "outputs": [
    {
     "data": {
      "text/plain": [
       "'1833-06-01.txt'"
      ]
     },
     "execution_count": 38,
     "metadata": {},
     "output_type": "execute_result"
    }
   ],
   "source": [
    "os.path.basename(files[4])"
   ]
  },
  {
   "cell_type": "code",
   "execution_count": 39,
   "metadata": {},
   "outputs": [
    {
     "data": {
      "text/plain": [
       "'1833-06-01'"
      ]
     },
     "execution_count": 39,
     "metadata": {},
     "output_type": "execute_result"
    }
   ],
   "source": [
    "os.path.basename(files[4])[:-4]"
   ]
  },
  {
   "cell_type": "code",
   "execution_count": 40,
   "metadata": {},
   "outputs": [
    {
     "data": {
      "text/plain": [
       "datetime.datetime(1833, 6, 1, 0, 0)"
      ]
     },
     "execution_count": 40,
     "metadata": {},
     "output_type": "execute_result"
    }
   ],
   "source": [
    "parse(os.path.basename(files[4])[:-4])"
   ]
  },
  {
   "cell_type": "code",
   "execution_count": 41,
   "metadata": {},
   "outputs": [],
   "source": [
    "# this list comprehension parses each of the dates in the filenames\n",
    "dates = [parse(os.path.basename(filename)[:-4],'')\n",
    "         for filename \n",
    "         in files]"
   ]
  },
  {
   "cell_type": "code",
   "execution_count": 42,
   "metadata": {},
   "outputs": [
    {
     "name": "stdout",
     "output_type": "stream",
     "text": [
      "[datetime.datetime(1864, 7, 1, 0, 0), datetime.datetime(1865, 9, 1, 0, 0), datetime.datetime(1865, 12, 1, 0, 0)]\n",
      "['TheLiberator/1864-07-01.txt', 'TheLiberator/1865-09-01.txt', 'TheLiberator/1865-12-01.txt']\n"
     ]
    }
   ],
   "source": [
    "print(dates[-3:])\n",
    "print(files[-3:])"
   ]
  },
  {
   "cell_type": "markdown",
   "metadata": {},
   "source": [
    "Now we want to select a slice of X, corresponding only to editions in 1851.\n",
    "\n",
    "We'll use the `enumerate` function to find the indices of dates that match the desired condition."
   ]
  },
  {
   "cell_type": "code",
   "execution_count": 43,
   "metadata": {},
   "outputs": [
    {
     "data": {
      "text/plain": [
       "[(34, datetime.datetime(1851, 8, 1, 0, 0)),\n",
       " (35, datetime.datetime(1851, 11, 1, 0, 0))]"
      ]
     },
     "execution_count": 43,
     "metadata": {},
     "output_type": "execute_result"
    }
   ],
   "source": [
    "[(i,date) for i,date in enumerate(dates) if date.year==1851]"
   ]
  },
  {
   "cell_type": "code",
   "execution_count": 44,
   "metadata": {},
   "outputs": [],
   "source": [
    "X_1851 = X[[i for i,date in enumerate(dates) if date.year==1851],]"
   ]
  },
  {
   "cell_type": "code",
   "execution_count": 45,
   "metadata": {},
   "outputs": [
    {
     "data": {
      "text/plain": [
       "(2, 8305)"
      ]
     },
     "execution_count": 45,
     "metadata": {},
     "output_type": "execute_result"
    }
   ],
   "source": [
    "X_1851.shape"
   ]
  },
  {
   "cell_type": "markdown",
   "metadata": {},
   "source": [
    "So `X_1851` contains two instances, corresponding to the two editions published in 1851. (Actually, we're working with a small sample of the full dataset, there were several other editions published in that year.)\n",
    "\n",
    "To find the most common words in this sample, let's construct an inverted index from the columns of `X` back to the vocabulary. "
   ]
  },
  {
   "cell_type": "code",
   "execution_count": 46,
   "metadata": {},
   "outputs": [],
   "source": [
    "ivoc = {j:i for i,j in vect.vocabulary_.items()}"
   ]
  },
  {
   "cell_type": "code",
   "execution_count": 47,
   "metadata": {},
   "outputs": [
    {
     "data": {
      "text/plain": [
       "array([ 2, 14,  4, ...,  0,  0,  0], dtype=int64)"
      ]
     },
     "execution_count": 47,
     "metadata": {},
     "output_type": "execute_result"
    }
   ],
   "source": [
    "np.array(X_1851.sum(axis=0))[0]"
   ]
  },
  {
   "cell_type": "code",
   "execution_count": 48,
   "metadata": {},
   "outputs": [
    {
     "data": {
      "text/plain": [
       "['the', 'of', 'and', 'to', 'in']"
      ]
     },
     "execution_count": 48,
     "metadata": {},
     "output_type": "execute_result"
    }
   ],
   "source": [
    "[ivoc[i] for i in np.array(X_1851.sum(axis=0))[0].argsort()[::-1][:5]]"
   ]
  },
  {
   "cell_type": "markdown",
   "metadata": {},
   "source": [
    "Not too interesting, but we're just getting started. "
   ]
  },
  {
   "cell_type": "markdown",
   "metadata": {},
   "source": [
    "# Pointwise mutual information\n",
    "\n",
    "Rather than look at the most common words in each year or set of years, let's look at the words that have high *pointwise mutual information* with the year. This is defined as:\n",
    "\n",
    "\\begin{equation}\n",
    "PMI(i,j) = \\log \\frac{P(i,j)}{P(i)\\times P(j)} = \\log P(i,j) - \\log P(i) - \\log P(j)\n",
    "\\end{equation}\n",
    "\n",
    "We'll now introduce code to compute each part of this equation."
   ]
  },
  {
   "cell_type": "code",
   "execution_count": 25,
   "metadata": {},
   "outputs": [],
   "source": [
    "# this computes $p(i)$, where $i$ is a word\n",
    "def get_p_word(X):\n",
    "    X_tot = np.array(X.sum(axis=0))[0]\n",
    "    return X_tot / X.sum()"
   ]
  },
  {
   "cell_type": "code",
   "execution_count": 53,
   "metadata": {},
   "outputs": [
    {
     "data": {
      "text/plain": [
       "array([190, 537, 429, ...,  91,  32,  41], dtype=int64)"
      ]
     },
     "execution_count": 53,
     "metadata": {},
     "output_type": "execute_result"
    }
   ],
   "source": [
    "np.array(X.sum(axis=0))[0]"
   ]
  },
  {
   "cell_type": "code",
   "execution_count": 34,
   "metadata": {
    "collapsed": true
   },
   "outputs": [],
   "source": [
    "P_base =get_p_word(X)"
   ]
  },
  {
   "cell_type": "code",
   "execution_count": 35,
   "metadata": {},
   "outputs": [
    {
     "data": {
      "image/png": "[encoded data removed]",
      "text/plain": [
       "<matplotlib.figure.Figure at 0x7fbaa128a7b8>"
      ]
     },
     "metadata": {},
     "output_type": "display_data"
    }
   ],
   "source": [
    "plt.plot(P_base)\n",
    "plt.xlabel('word index')\n",
    "plt.ylabel('frequency');"
   ]
  },
  {
   "cell_type": "code",
   "execution_count": 36,
   "metadata": {},
   "outputs": [
    {
     "name": "stdout",
     "output_type": "stream",
     "text": [
      "['the', 'of', 'and', 'to', 'in']\n",
      "[0.080353468880321952, 0.049455292548612188, 0.038205106504679551, 0.033368839757077697, 0.021727596662590724]\n"
     ]
    }
   ],
   "source": [
    "print([ivoc[i] for i in P_base.argsort()[::-1][:5]])\n",
    "print(sorted(P_base)[::-1][:5])"
   ]
  },
  {
   "cell_type": "markdown",
   "metadata": {},
   "source": [
    "Now let's compute $P(year)$ and $P(word,year)$.\n",
    "\n",
    "To do this, we'll write a function that returns a sum of word counts for a given year."
   ]
  },
  {
   "cell_type": "code",
   "execution_count": 38,
   "metadata": {},
   "outputs": [
    {
     "name": "stdout",
     "output_type": "stream",
     "text": [
      "[1831, 1832, 1833, 1834, 1835, 1836, 1837, 1838, 1839, 1840, 1841, 1842, 1843, 1844, 1845, 1846, 1847, 1848, 1849, 1850, 1851, 1852, 1853, 1854, 1855, 1856, 1857, 1858, 1859, 1860, 1861, 1862, 1863, 1864, 1865]\n"
     ]
    }
   ],
   "source": [
    "all_years = sorted(set([date.year for date in dates]))\n",
    "print(all_years)"
   ]
  },
  {
   "cell_type": "code",
   "execution_count": 39,
   "metadata": {
    "collapsed": true
   },
   "outputs": [],
   "source": [
    "def get_X_year(X,dates,year):\n",
    "    return np.array(X[[i \n",
    "              for i,date \n",
    "              in enumerate(dates) \n",
    "              if date.year==year],].sum(axis=0))[0]"
   ]
  },
  {
   "cell_type": "code",
   "execution_count": 40,
   "metadata": {},
   "outputs": [
    {
     "name": "stdout",
     "output_type": "stream",
     "text": [
      "[ 2 14  4 ...,  0  0  0]\n",
      "[[ 2 14  4 ...,  0  0  0]]\n"
     ]
    }
   ],
   "source": [
    "print(get_X_year(X,dates,1851))\n",
    "print(X_1851.sum(axis=0))"
   ]
  },
  {
   "cell_type": "markdown",
   "metadata": {},
   "source": [
    "Now let's create this vector for each year."
   ]
  },
  {
   "cell_type": "code",
   "execution_count": 41,
   "metadata": {
    "collapsed": true
   },
   "outputs": [],
   "source": [
    "X_years = [get_X_year(X,dates,year) for year in all_years]"
   ]
  },
  {
   "cell_type": "code",
   "execution_count": 42,
   "metadata": {},
   "outputs": [
    {
     "data": {
      "text/plain": [
       "[array([ 0, 21,  3, ...,  2,  0,  0], dtype=int64),\n",
       " array([ 2, 11, 12, ...,  2,  3,  1], dtype=int64),\n",
       " array([47, 12,  5, ...,  0,  0,  1], dtype=int64)]"
      ]
     },
     "execution_count": 42,
     "metadata": {},
     "output_type": "execute_result"
    }
   ],
   "source": [
    "X_years[:3]"
   ]
  },
  {
   "cell_type": "markdown",
   "metadata": {},
   "source": [
    "This is a list of arrays. We can combine this into a single array:"
   ]
  },
  {
   "cell_type": "code",
   "execution_count": 43,
   "metadata": {},
   "outputs": [],
   "source": [
    "X_all_years = np.array(X_years)"
   ]
  },
  {
   "cell_type": "code",
   "execution_count": 44,
   "metadata": {},
   "outputs": [
    {
     "data": {
      "text/plain": [
       "array([[ 0, 21,  3, ...,  2,  0,  0],\n",
       "       [ 2, 11, 12, ...,  2,  3,  1],\n",
       "       [47, 12,  5, ...,  0,  0,  1],\n",
       "       ..., \n",
       "       [ 0,  1, 10, ...,  0,  1,  0],\n",
       "       [ 1, 20, 13, ...,  5,  2,  5],\n",
       "       [ 1, 19,  6, ...,  3,  1,  1]], dtype=int64)"
      ]
     },
     "execution_count": 44,
     "metadata": {},
     "output_type": "execute_result"
    }
   ],
   "source": [
    "X_all_years"
   ]
  },
  {
   "cell_type": "code",
   "execution_count": 45,
   "metadata": {
    "collapsed": true
   },
   "outputs": [],
   "source": [
    "P_year = X_all_years.sum(axis=1) / X_all_years.sum()"
   ]
  },
  {
   "cell_type": "code",
   "execution_count": 47,
   "metadata": {},
   "outputs": [
    {
     "data": {
      "text/plain": [
       "array([ 0.01411366,  0.02101902,  0.00972623,  0.04188513,  0.0143407 ,\n",
       "        0.01494947,  0.0188828 ,  0.01691759,  0.05252363,  0.01493721,\n",
       "        0.06889783,  0.06110763,  0.06352518,  0.06204324,  0.03534689,\n",
       "        0.0140693 ,  0.02768742,  0.02650083,  0.01430919,  0.04323398,\n",
       "        0.02164997,  0.01436113,  0.03003085,  0.02764773,  0.01518527,\n",
       "        0.02963687,  0.01519111,  0.02934854,  0.01496873,  0.01472651,\n",
       "        0.04676459,  0.01539072,  0.01451872,  0.0445951 ,  0.02996723])"
      ]
     },
     "execution_count": 47,
     "metadata": {},
     "output_type": "execute_result"
    }
   ],
   "source": [
    "P_year"
   ]
  },
  {
   "cell_type": "code",
   "execution_count": 48,
   "metadata": {},
   "outputs": [
    {
     "data": {
      "image/png": "[encoded data removed]",
      "text/plain": [
       "<matplotlib.figure.Figure at 0x7fbad15665c0>"
      ]
     },
     "metadata": {},
     "output_type": "display_data"
    }
   ],
   "source": [
    "plt.plot(all_years,P_year)\n",
    "plt.xlabel('year')\n",
    "plt.ylabel('percentage of all words');"
   ]
  },
  {
   "cell_type": "markdown",
   "metadata": {},
   "source": [
    "**Optional exercise** Create the same plot for months rather than years."
   ]
  },
  {
   "cell_type": "markdown",
   "metadata": {},
   "source": [
    "Now we're ready to compute the PMI."
   ]
  },
  {
   "cell_type": "code",
   "execution_count": 50,
   "metadata": {},
   "outputs": [
    {
     "data": {
      "text/plain": [
       "20"
      ]
     },
     "execution_count": 50,
     "metadata": {},
     "output_type": "execute_result"
    }
   ],
   "source": [
    "all_years.index(1851)"
   ]
  },
  {
   "cell_type": "code",
   "execution_count": 51,
   "metadata": {},
   "outputs": [
    {
     "data": {
      "text/plain": [
       "array([[ 0, 21,  3, ...,  2,  0,  0],\n",
       "       [ 2, 11, 12, ...,  2,  3,  1],\n",
       "       [47, 12,  5, ...,  0,  0,  1],\n",
       "       ..., \n",
       "       [ 0,  1, 10, ...,  0,  1,  0],\n",
       "       [ 1, 20, 13, ...,  5,  2,  5],\n",
       "       [ 1, 19,  6, ...,  3,  1,  1]], dtype=int64)"
      ]
     },
     "execution_count": 51,
     "metadata": {},
     "output_type": "execute_result"
    }
   ],
   "source": [
    "X_all_years"
   ]
  },
  {
   "cell_type": "code",
   "execution_count": 56,
   "metadata": {},
   "outputs": [
    {
     "name": "stderr",
     "output_type": "stream",
     "text": [
      "/home/jacob/.local/lib/python3.5/site-packages/ipykernel_launcher.py:2: RuntimeWarning: divide by zero encountered in log\n",
      "  \n"
     ]
    }
   ],
   "source": [
    "idx_1851 = all_years.index(1851)\n",
    "pmi_1851 = np.log(X_all_years[idx_1851,:]/X_all_years.sum()) - np.log(P_base) - np.log(P_year[idx_1851])"
   ]
  },
  {
   "cell_type": "markdown",
   "metadata": {},
   "source": [
    "That divide by zero error comes from taking the logarithm of zero, which will happen for every word that does not appear in the target year. Let's look at the output:"
   ]
  },
  {
   "cell_type": "code",
   "execution_count": 57,
   "metadata": {},
   "outputs": [
    {
     "data": {
      "text/plain": [
       "array([-0.72112563,  0.1858105 , -0.8424113 , ...,        -inf,\n",
       "              -inf,        -inf])"
      ]
     },
     "execution_count": 57,
     "metadata": {},
     "output_type": "execute_result"
    }
   ],
   "source": [
    "pmi_1851"
   ]
  },
  {
   "cell_type": "markdown",
   "metadata": {},
   "source": [
    "numpy handles this pretty well, putting a value of `-inf` in the list. \n",
    "\n",
    "that means we can go ahead and use argsort to find the highest PMI words."
   ]
  },
  {
   "cell_type": "code",
   "execution_count": 58,
   "metadata": {},
   "outputs": [
    {
     "data": {
      "text/plain": [
       "['1851', 'austria', 'fraternity', 'problem', 'theyshould']"
      ]
     },
     "execution_count": 58,
     "metadata": {},
     "output_type": "execute_result"
    }
   ],
   "source": [
    "[ivoc[i] for i in pmi_1851.argsort()[::-1][:5]]"
   ]
  },
  {
   "cell_type": "markdown",
   "metadata": {},
   "source": [
    "The top word is 1851! This is a good sign."
   ]
  },
  {
   "cell_type": "markdown",
   "metadata": {},
   "source": [
    "**Your turn** Write a function that takes the year as an argument, and returns the PMI for that year."
   ]
  },
  {
   "cell_type": "code",
   "execution_count": null,
   "metadata": {
    "collapsed": true
   },
   "outputs": [],
   "source": [
    "def get_pmi_year(X_all_years,X_base,p_year,year):\n",
    "    # your code here\n",
    "\n",
    "    "
   ]
  },
  {
   "cell_type": "markdown",
   "metadata": {},
   "source": [
    "Here's how the output should look."
   ]
  },
  {
   "cell_type": "code",
   "execution_count": 209,
   "metadata": {},
   "outputs": [
    {
     "name": "stdout",
     "output_type": "stream",
     "text": [
      "1831 ['weep', '1831', 'landlord', '1830', 'coach']\n",
      "1832 ['cup', 'deaths', 'deputy', 'refute', 'cholera']\n",
      "1833 ['planter', 'isle', 'spectator', '00', 'solomon']\n",
      "1834 ['overseers', 'chorus', '1834', 'augusta', 'overseer']\n",
      "1835 ['tracy', 'pull', '1835', 'purvis', 'madam']\n",
      "1836 ['glasgow', 'opponent', 'kidnapped', 'boasting', 'searched']\n",
      "1837 ['swallow', 'braintree', '1837', 'clerical', 'deprecate']\n",
      "1838 ['mob', 'remonstrances', 'kidnappers', 'erected', 'nought']\n",
      "1839 ['1839', 'harriet', 'disguise', 'marlboro', 'hilton']\n",
      "1840 ['goodell', 'manifesto', 'harrison', 'follen', 'emancipator']\n",
      "1841 ['1841', 'pierpont', 'lucretia', 'resistant', 'betrays']\n",
      "1842 ['1842', 'trains', 'giddings', 'nelson', 'pauper']\n",
      "1843 ['1843', 'stabbed', 'perkins', 'sham', 'bro']\n",
      "1844 ['1844', 'birney', 'polk', 'bath', 'bates']\n",
      "1845 ['writ', 'drunkenness', 'prosecuted', 'insurrections', 'employer']\n",
      "1846 ['rio', 'drunkard', 'cobb', 'del', 'elegance']\n",
      "1847 ['campbell', 'edinburgh', 'sand', 'thepoor', 'carved']\n",
      "1848 ['1848', 'traders', 'cass', 'taylor', 'tobring']\n",
      "1849 ['flowing', 'vary', 'mortality', 'flying', 'cholera']\n",
      "1850 ['proviso', 'california', 'thatin', 'summary', 'hunter']\n",
      "1851 ['1851', 'austria', 'fraternity', 'problem', 'theyshould']\n",
      "1852 ['mirror', 'nichols', '1852', 'piano', 'thefugitive']\n",
      "1853 ['1853', 'mulatto', 'militia', 'holley', 'constitutionof']\n",
      "1854 ['barker', '1854', 'browne', 'manchester', 'pamphlets']\n",
      "1855 ['faculties', 'veto', 'gardner', 'judiciary', 'residents']\n",
      "1856 ['brooks', 'disunion', 'buchanan', 'kansas', 'oster']\n",
      "1857 ['emerson', 'whiskey', 'oppress', 'strangers', 'baggage']\n",
      "1858 ['ills', 'thyself', 'circuit', 'allen', 'willard']\n",
      "1859 ['census', 'bailey', 'conducting', 'counter', 'atall']\n",
      "1860 ['1860', 'kent', 'systemof', 'crown', 'martyrs']\n",
      "1861 ['hisses', 'hare', 'tremont', 'rabble', 'concede']\n",
      "1862 ['potomac', 'superstition', 'napoleon', 'priesthood', 'rebels']\n",
      "1863 ['ruined', 'enforcement', 'puritans', 'pestilence', 'regiments']\n",
      "1864 ['fremont', 'volunteers', 'lovejoy', 'proclamation', 'lincoln']\n",
      "1865 ['serfs', 'thework', 'rebellious', 'restoration', 'pardon']\n"
     ]
    },
    {
     "name": "stderr",
     "output_type": "stream",
     "text": [
      "/usr/lib/python3/dist-packages/ipykernel/__main__.py:5: RuntimeWarning: divide by zero encountered in log\n"
     ]
    }
   ],
   "source": [
    "for year in all_years:\n",
    "    print(year,[ivoc[i] for i in get_pmi_year(X_all_years,X_base,p_year,year).argsort()[::-1][:5]])"
   ]
  },
  {
   "cell_type": "markdown",
   "metadata": {},
   "source": [
    "These results suggest possibilities for further research: why was \"drunkenness\" a concern in 1845 and 1846, etc."
   ]
  },
  {
   "cell_type": "code",
   "execution_count": 59,
   "metadata": {},
   "outputs": [
    {
     "data": {
      "image/png": "[encoded data removed]",
      "text/plain": [
       "<matplotlib.figure.Figure at 0x7fbaa1658a20>"
      ]
     },
     "metadata": {},
     "output_type": "display_data"
    }
   ],
   "source": [
    "plt.plot(all_years,X_all_years[:,vect.vocabulary_['drunkenness']],'bs:')\n",
    "plt.plot(all_years,X_all_years[:,vect.vocabulary_['kidnappers']],'gd-')\n",
    "plt.plot(all_years,X_all_years[:,vect.vocabulary_['census']],'ro--')\n",
    "plt.legend(['drunkenness','kidnappers','census'])\n",
    "plt.ylabel('count')\n",
    "plt.xlabel('year');"
   ]
  },
  {
   "cell_type": "markdown",
   "metadata": {
    "collapsed": true
   },
   "source": [
    "**Your turn**. Redo this analysis, using only words that appeared at least 50 times in the dataset."
   ]
  },
  {
   "cell_type": "code",
   "execution_count": 245,
   "metadata": {
    "collapsed": true
   },
   "outputs": [],
   "source": [
    "vect_50 = CountVectorizer(input='filename',min_df=50,binary=False)"
   ]
  },
  {
   "cell_type": "code",
   "execution_count": null,
   "metadata": {
    "collapsed": true
   },
   "outputs": [],
   "source": [
    "# your code here"
   ]
  },
  {
   "cell_type": "code",
   "execution_count": 252,
   "metadata": {},
   "outputs": [
    {
     "data": {
      "image/png": "[encoded data removed]",
      "text/plain": [
       "<matplotlib.figure.Figure at 0x7fbacaf2be48>"
      ]
     },
     "metadata": {},
     "output_type": "display_data"
    }
   ],
   "source": [
    "plt.plot(all_years,X_all_years_50[:,vect_50.vocabulary_['woman']],'bs:')\n",
    "plt.plot(all_years,X_all_years_50[:,vect_50.vocabulary_['religion']],'gd-')\n",
    "plt.plot(all_years,X_all_years_50[:,vect_50.vocabulary_['african']],'ro--')\n",
    "plt.legend(['woman','religion','african'])\n",
    "plt.ylabel('count')\n",
    "plt.xlabel('year');"
   ]
  },
  {
   "cell_type": "markdown",
   "metadata": {},
   "source": [
    "# Year-to-year similarity\n",
    "\n",
    "Next, let's look for transitions in the data.\n",
    "\n",
    "For each pair of years, we can compute the cosine similarity,\n",
    "\n",
    "$\\cos(x,y) = \\frac{x \\cdot y}{||x|| \\times ||y||}$,\n",
    "\n",
    "with $\\cos(x,y) \\in [0,1]$"
   ]
  },
  {
   "cell_type": "code",
   "execution_count": 346,
   "metadata": {},
   "outputs": [],
   "source": [
    "corr = np.zeros(X_all_years.shape[0]-1)\n",
    "for i,X_year in enumerate(X_all_years[:-1,]):\n",
    "    corr[i] = X_year.dot(X_all_years[i+1,]) / ((np.linalg.norm(X_year)) * (np.linalg.norm(X_all_years[i+1,])))"
   ]
  },
  {
   "cell_type": "code",
   "execution_count": 347,
   "metadata": {},
   "outputs": [
    {
     "data": {
      "image/png": "[encoded data removed]",
      "text/plain": [
       "<matplotlib.figure.Figure at 0x7fbac9db0160>"
      ]
     },
     "metadata": {},
     "output_type": "display_data"
    }
   ],
   "source": [
    "plt.plot(all_years[1:],corr)\n",
    "plt.xlabel('year')\n",
    "plt.ylabel('year-to-year similarity');"
   ]
  },
  {
   "cell_type": "markdown",
   "metadata": {},
   "source": [
    "**Your turn:** Compute the cosine similarity of each year with the sum over the previous three years (when applicable)"
   ]
  },
  {
   "cell_type": "markdown",
   "metadata": {
    "collapsed": true
   },
   "source": [
    "# Possible next steps\n",
    "\n",
    "- Compare the Liberator with other newspaper (ask for this data)\n",
    "- Apply tf-idf before computing cosine similarity\n",
    "- Compute topics, track their frequency over time\n",
    "- Identify named entities, track their frequency over time"
   ]
  },
  {
   "cell_type": "code",
   "execution_count": null,
   "metadata": {
    "collapsed": true
   },
   "outputs": [],
   "source": []
  }
 ],
 "metadata": {
  "kernelspec": {
   "display_name": "Python 3",
   "language": "python",
   "name": "python3"
  },
  "language_info": {
   "codemirror_mode": {
    "name": "ipython",
    "version": 3
   },
   "file_extension": ".py",
   "mimetype": "text/x-python",
   "name": "python",
   "nbconvert_exporter": "python",
   "pygments_lexer": "ipython3",
   "version": "3.7.2"
  }
 },
 "nbformat": 4,
 "nbformat_minor": 2
}
